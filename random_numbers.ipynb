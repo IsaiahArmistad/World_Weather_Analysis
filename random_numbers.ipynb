{
 "cells": [
  {
   "cell_type": "code",
   "execution_count": 1,
   "id": "26a76fa4",
   "metadata": {},
   "outputs": [],
   "source": [
    "# Import the random module\n",
    "import random "
   ]
  },
  {
   "cell_type": "code",
   "execution_count": 2,
   "id": "930fd22e",
   "metadata": {},
   "outputs": [
    {
     "data": {
      "text/plain": [
       "40"
      ]
     },
     "execution_count": 2,
     "metadata": {},
     "output_type": "execute_result"
    }
   ],
   "source": [
    "random.randint(-90, 90)"
   ]
  },
  {
   "cell_type": "code",
   "execution_count": 3,
   "id": "db94f43f",
   "metadata": {},
   "outputs": [
    {
     "data": {
      "text/plain": [
       "0.9212161076005917"
      ]
     },
     "execution_count": 3,
     "metadata": {},
     "output_type": "execute_result"
    }
   ],
   "source": [
    "random.random()"
   ]
  },
  {
   "cell_type": "code",
   "execution_count": 4,
   "id": "b7b7e677",
   "metadata": {},
   "outputs": [
    {
     "data": {
      "text/plain": [
       "[-67.07892871219991,\n",
       " -17.156210235689965,\n",
       " -62.45025282803508,\n",
       " -61.314615087555026,\n",
       " -79.68236134618566,\n",
       " 88.47490577920131,\n",
       " 77.78671045414585,\n",
       " -39.24951558832585,\n",
       " 11.798045918857541,\n",
       " -12.922500797435642]"
      ]
     },
     "execution_count": 4,
     "metadata": {},
     "output_type": "execute_result"
    }
   ],
   "source": [
    "x = 1 \n",
    "latitudes = []\n",
    "while x < 11:\n",
    "    random_lat = random.randint(-90, 89) + random.random()\n",
    "    latitudes.append(random_lat)\n",
    "    x += 1\n",
    "latitudes"
   ]
  },
  {
   "cell_type": "code",
   "execution_count": 5,
   "id": "bdbb3b25",
   "metadata": {},
   "outputs": [
    {
     "data": {
      "text/plain": [
       "-69"
      ]
     },
     "execution_count": 5,
     "metadata": {},
     "output_type": "execute_result"
    }
   ],
   "source": [
    "random.randrange(-90, 90, step = 3)"
   ]
  },
  {
   "cell_type": "code",
   "execution_count": 7,
   "id": "48f059cb",
   "metadata": {},
   "outputs": [],
   "source": [
    "# Import the NumPy Module\n",
    "import numpy as np"
   ]
  },
  {
   "cell_type": "code",
   "execution_count": 9,
   "id": "c518d531",
   "metadata": {},
   "outputs": [
    {
     "data": {
      "text/plain": [
       "array([ 12.61056901, -10.16086777,  38.15003031, -18.14790805,\n",
       "        51.03563893, -74.9779656 , -85.29060213, -43.59732841,\n",
       "        72.29575379,   2.49358869, -57.21652429, -88.33449536,\n",
       "       -83.4362301 ,  70.19619236,  50.24011554,   3.23744749,\n",
       "        22.74017991, -42.45958441,  85.93498608, -39.07867664,\n",
       "       -88.41972656,  53.77104867, -13.28838796, -31.11378609,\n",
       "       -48.29218736,  29.95732332, -19.83206286, -78.14013196,\n",
       "        16.38448253,   7.31710247,  14.91200066,  68.98904248,\n",
       "       -35.66165402,   3.31180822,  23.49569234, -20.48953123,\n",
       "       -35.94277875,  -9.35339101,  31.11021115, -68.53564122,\n",
       "       -18.35761675,  74.37576132,  17.61170189, -12.02749286,\n",
       "       -54.64687053, -28.19879657, -50.1838871 , -84.14314815,\n",
       "       -11.72841206,  60.95930627])"
      ]
     },
     "execution_count": 9,
     "metadata": {},
     "output_type": "execute_result"
    }
   ],
   "source": [
    "np.random.uniform(-90, 90, size = 50)"
   ]
  },
  {
   "cell_type": "code",
   "execution_count": 10,
   "id": "da13ce00",
   "metadata": {},
   "outputs": [],
   "source": [
    "# Import timeit\n",
    "import timeit"
   ]
  },
  {
   "cell_type": "code",
   "execution_count": 11,
   "id": "a7d4671b",
   "metadata": {},
   "outputs": [
    {
     "name": "stdout",
     "output_type": "stream",
     "text": [
      "24.5 µs ± 1.99 µs per loop (mean ± std. dev. of 7 runs, 10,000 loops each)\n"
     ]
    }
   ],
   "source": [
    "%timeit np.random.uniform(-90, 90, size = 1500)"
   ]
  },
  {
   "cell_type": "code",
   "execution_count": 12,
   "id": "fddf19e5",
   "metadata": {},
   "outputs": [
    {
     "name": "stdout",
     "output_type": "stream",
     "text": [
      "2.42 ms ± 416 µs per loop (mean ± std. dev. of 7 runs, 100 loops each)\n"
     ]
    }
   ],
   "source": [
    "def latitudes(size):\n",
    "    latitudes = []\n",
    "    x = 0\n",
    "    while x < (size):\n",
    "        random_lat = random.randint(-90, 90) + random.random()\n",
    "        latitudes.append(random_lat)\n",
    "        x += 1\n",
    "    return latitudes\n",
    "# Call the function with 1500.\n",
    "%timeit latitudes(1500)"
   ]
  },
  {
   "cell_type": "code",
   "execution_count": null,
   "id": "cff48a9b",
   "metadata": {},
   "outputs": [],
   "source": []
  }
 ],
 "metadata": {
  "kernelspec": {
   "display_name": "PythonData",
   "language": "python",
   "name": "pythondata"
  },
  "language_info": {
   "codemirror_mode": {
    "name": "ipython",
    "version": 3
   },
   "file_extension": ".py",
   "mimetype": "text/x-python",
   "name": "python",
   "nbconvert_exporter": "python",
   "pygments_lexer": "ipython3",
   "version": "3.9.12"
  }
 },
 "nbformat": 4,
 "nbformat_minor": 5
}
